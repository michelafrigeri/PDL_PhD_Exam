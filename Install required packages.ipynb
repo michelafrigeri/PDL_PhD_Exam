{
 "cells": [
  {
   "cell_type": "code",
   "execution_count": null,
   "id": "96d9d13b",
   "metadata": {},
   "outputs": [],
   "source": [
    "pip install --upgrade cmdstanpy"
   ]
  },
  {
   "cell_type": "code",
   "execution_count": null,
   "id": "d7954f2a",
   "metadata": {},
   "outputs": [],
   "source": [
    "import cmdstanpy\n",
    "cmdstanpy.install_cmdstan()"
   ]
  },
  {
   "cell_type": "code",
   "execution_count": null,
   "id": "985e85d6",
   "metadata": {},
   "outputs": [],
   "source": [
    "pip install arviz"
   ]
  },
  {
   "cell_type": "code",
   "execution_count": null,
   "id": "405bb0a4",
   "metadata": {},
   "outputs": [],
   "source": [
    "pip install seaborn"
   ]
  },
  {
   "cell_type": "code",
   "execution_count": null,
   "id": "00a41681",
   "metadata": {},
   "outputs": [],
   "source": [
    "pip install matplotlib"
   ]
  },
  {
   "cell_type": "code",
   "execution_count": null,
   "id": "ad68343e",
   "metadata": {},
   "outputs": [],
   "source": [
    "pip install pandas"
   ]
  }
 ],
 "metadata": {
  "kernelspec": {
   "display_name": "Python 3 (ipykernel)",
   "language": "python",
   "name": "python3"
  },
  "language_info": {
   "codemirror_mode": {
    "name": "ipython",
    "version": 3
   },
   "file_extension": ".py",
   "mimetype": "text/x-python",
   "name": "python",
   "nbconvert_exporter": "python",
   "pygments_lexer": "ipython3",
   "version": "3.11.4"
  }
 },
 "nbformat": 4,
 "nbformat_minor": 5
}
